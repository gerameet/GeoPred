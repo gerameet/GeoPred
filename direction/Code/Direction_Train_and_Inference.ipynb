{
 "cells": [
  {
   "cell_type": "code",
   "execution_count": 8,
   "metadata": {
    "execution": {
     "iopub.execute_input": "2025-05-04T18:01:13.584592Z",
     "iopub.status.busy": "2025-05-04T18:01:13.583871Z",
     "iopub.status.idle": "2025-05-04T18:01:13.591000Z",
     "shell.execute_reply": "2025-05-04T18:01:13.590186Z",
     "shell.execute_reply.started": "2025-05-04T18:01:13.584567Z"
    },
    "trusted": true
   },
   "outputs": [],
   "source": [
    "import pandas as pd\n",
    "from torch.utils.data import Dataset\n",
    "from torchvision import transforms\n",
    "from PIL import Image\n",
    "import torch\n",
    "import math\n",
    "import os\n",
    "\n",
    "class AngleDataset(Dataset):\n",
    "    def __init__(self, csv_file, image_dir):\n",
    "        self.data = pd.read_csv(csv_file)\n",
    "        self.image_dir = image_dir\n",
    "        self.transform = transforms.Compose([\n",
    "            transforms.Resize((256, 256)),\n",
    "            transforms.ToTensor()\n",
    "        ])\n",
    "\n",
    "    def __len__(self):\n",
    "        return len(self.data)\n",
    "\n",
    "    def __getitem__(self, idx):\n",
    "        row = self.data.iloc[idx]\n",
    "        img_path = os.path.join(self.image_dir, row['filename'])\n",
    "        image = Image.open(img_path).convert(\"RGB\")\n",
    "        image = self.transform(image)\n",
    "        angle_rad = math.radians(row['angle'] % 360)\n",
    "        target = torch.tensor([math.sin(angle_rad), math.cos(angle_rad)], dtype=torch.float32)\n",
    "        return image, target"
   ]
  },
  {
   "cell_type": "code",
   "execution_count": 9,
   "metadata": {
    "execution": {
     "iopub.execute_input": "2025-05-04T18:01:13.592228Z",
     "iopub.status.busy": "2025-05-04T18:01:13.592006Z",
     "iopub.status.idle": "2025-05-04T18:01:13.611231Z",
     "shell.execute_reply": "2025-05-04T18:01:13.610572Z",
     "shell.execute_reply.started": "2025-05-04T18:01:13.592213Z"
    },
    "trusted": true
   },
   "outputs": [],
   "source": [
    "import torch.nn as nn\n",
    "from torchvision.models import efficientnet_b0, efficientnet_b1, efficientnet_b2, efficientnet_b3\n",
    "\n",
    "def get_model(version='efficientnet_b0'):\n",
    "    backbone = {\n",
    "        'efficientnet_b0': efficientnet_b0,\n",
    "        'efficientnet_b1': efficientnet_b1,\n",
    "        'efficientnet_b2': efficientnet_b2,\n",
    "        'efficientnet_b3': efficientnet_b3,\n",
    "    }[version](pretrained=True)\n",
    "    \n",
    "    in_features = backbone.classifier[1].in_features\n",
    "    backbone.classifier = nn.Sequential(nn.Linear(in_features, 2))\n",
    "    return backbone"
   ]
  },
  {
   "cell_type": "code",
   "execution_count": 10,
   "metadata": {
    "execution": {
     "iopub.execute_input": "2025-05-04T18:01:13.612409Z",
     "iopub.status.busy": "2025-05-04T18:01:13.612165Z",
     "iopub.status.idle": "2025-05-04T18:01:13.626113Z",
     "shell.execute_reply": "2025-05-04T18:01:13.625484Z",
     "shell.execute_reply.started": "2025-05-04T18:01:13.612393Z"
    },
    "trusted": true
   },
   "outputs": [],
   "source": [
    "import torch\n",
    "import math\n",
    "\n",
    "def angular_error(pred, target):\n",
    "    pred_angle = torch.atan2(pred[:, 0], pred[:, 1])\n",
    "    target_angle = torch.atan2(target[:, 0], target[:, 1])\n",
    "    diff = torch.abs(pred_angle - target_angle)\n",
    "    return torch.mean(torch.rad2deg(torch.minimum(diff, 2*math.pi - diff)))\n",
    "\n",
    "def compute_angle_from_sincos(sin_val, cos_val):\n",
    "    return (math.degrees(math.atan2(sin_val, cos_val)) + 360) % 360"
   ]
  },
  {
   "cell_type": "code",
   "execution_count": null,
   "metadata": {
    "execution": {
     "execution_failed": "2025-05-05T06:48:13.785Z"
    },
    "trusted": true
   },
   "outputs": [],
   "source": [
    "import torch\n",
    "from torch.utils.data import DataLoader\n",
    "from torch import nn, optim\n",
    "\n",
    "import os\n",
    "\n",
    "def train_model(train_csv, val_csv, train_dir, val_dir, version='efficientnet_b0', fine_tune=False, save_path='angle_model.pt'):\n",
    "    device = torch.device(\"cuda\" if torch.cuda.is_available() else \"cpu\")\n",
    "\n",
    "    train_set = AngleDataset(train_csv, train_dir)\n",
    "    val_set = AngleDataset(val_csv, val_dir)\n",
    "\n",
    "    train_loader = DataLoader(train_set, batch_size=32, shuffle=True)\n",
    "    val_loader = DataLoader(val_set, batch_size=32)\n",
    "\n",
    "    model = get_model(version).to(device)\n",
    "    optimizer = optim.Adam(model.parameters(), lr=1e-4)\n",
    "    criterion = nn.MSELoss()\n",
    "\n",
    "    num_epochs = 100 if not fine_tune else 5\n",
    "\n",
    "    best_maae = float('inf')\n",
    "\n",
    "    for epoch in range(num_epochs):\n",
    "        model.train()\n",
    "        for x, y in train_loader:\n",
    "            x, y = x.to(device), y.to(device)\n",
    "            pred = model(x)\n",
    "            loss = criterion(pred, y)\n",
    "            optimizer.zero_grad()\n",
    "            loss.backward()\n",
    "            optimizer.step()\n",
    "\n",
    "        # Evaluation\n",
    "        model.eval()\n",
    "        val_loss = 0\n",
    "        val_angular_error = 0\n",
    "        with torch.no_grad():\n",
    "            for x, y in val_loader:\n",
    "                x, y = x.to(device), y.to(device)\n",
    "                pred = model(x)\n",
    "                loss = criterion(pred, y)\n",
    "                if fine_tune:\n",
    "                    loss *= 5  # 5x weight during fine-tuning\n",
    "                val_loss += loss.item()\n",
    "                val_angular_error += angular_error(pred, y).item()\n",
    "\n",
    "        avg_maae = val_angular_error / len(val_loader)\n",
    "        print(f\"Epoch {epoch+1}/{num_epochs} | Val Loss: {val_loss:.4f} | Val MAAE: {avg_maae:.2f}\")\n",
    "\n",
    "        # Save best model\n",
    "        if avg_maae < best_maae:\n",
    "            best_maae = avg_maae\n",
    "            torch.save(model.state_dict(), save_path)\n",
    "            print(f\"✅ Saved model to {save_path} (new best MAAE: {avg_maae:.2f})\")\n",
    "\n",
    "train_csv = '/kaggle/input/latlong-dataset/train_combine.csv'\n",
    "train_dir = '/kaggle/input/latlong-dataset/images_train_combine/'\n",
    "val_csv = '/kaggle/input/val-dataset/labels_val.csv'\n",
    "val_dir = '/kaggle/input/val-dataset/images_val'\n",
    "train_model(train_csv, val_csv, train_dir, val_dir)\n",
    "# train_model('train.csv', 'val.csv', 'data/train', 'data/val', fine_tune=True)"
   ]
  },
  {
   "cell_type": "code",
   "execution_count": null,
   "metadata": {
    "execution": {
     "execution_failed": "2025-05-05T06:48:13.783Z"
    },
    "trusted": true
   },
   "outputs": [],
   "source": [
    "import pandas as pd\n",
    "import torch\n",
    "from PIL import Image\n",
    "from torchvision import transforms\n",
    "\n",
    "\n",
    "def inference(csv_path, img_dir, model_path='angle_model.pt', version='efficientnet_b0'):\n",
    "    df = pd.read_csv(csv_path)\n",
    "    model = get_model(version)\n",
    "    model.load_state_dict(torch.load(model_path))\n",
    "    model.eval()\n",
    "\n",
    "    transform = transforms.Compose([\n",
    "        transforms.Resize((256, 256)),\n",
    "        transforms.ToTensor()\n",
    "    ])\n",
    "\n",
    "    output = []\n",
    "    for _, row in df.iterrows():\n",
    "        img_path = f\"{img_dir}/{row['filename']}\"\n",
    "        img = Image.open(img_path).convert('RGB')\n",
    "        img = transform(img).unsqueeze(0)\n",
    "        with torch.no_grad():\n",
    "            pred = model(img)[0]\n",
    "        pred_angle = compute_angle_from_sincos(pred[0].item(), pred[1].item())\n",
    "\n",
    "        entry = {'filename': row['filename'], 'predicted_angle': pred_angle}\n",
    "        if 'angle' in row:\n",
    "            actual_angle = row['angle'] % 360\n",
    "            angle_diff = abs(pred_angle - actual_angle)\n",
    "            angle_diff = min(angle_diff, 360 - angle_diff)\n",
    "            entry['maae'] = angle_diff\n",
    "        output.append(entry)\n",
    "\n",
    "    pd.DataFrame(output).to_csv('predictions.csv', index=False)\n",
    "\n",
    "inference(val_csv, val_dir)"
   ]
  }
 ],
 "metadata": {
  "kaggle": {
   "accelerator": "gpu",
   "dataSources": [
    {
     "datasetId": 7319155,
     "sourceId": 11662615,
     "sourceType": "datasetVersion"
    },
    {
     "datasetId": 7320298,
     "sourceId": 11664206,
     "sourceType": "datasetVersion"
    },
    {
     "datasetId": 7321033,
     "sourceId": 11665213,
     "sourceType": "datasetVersion"
    },
    {
     "datasetId": 7332086,
     "sourceId": 11682274,
     "sourceType": "datasetVersion"
    },
    {
     "modelId": 329634,
     "modelInstanceId": 309246,
     "sourceId": 374001,
     "sourceType": "modelInstanceVersion"
    }
   ],
   "dockerImageVersionId": 31011,
   "isGpuEnabled": true,
   "isInternetEnabled": true,
   "language": "python",
   "sourceType": "notebook"
  },
  "kernelspec": {
   "display_name": "Python 3",
   "language": "python",
   "name": "python3"
  },
  "language_info": {
   "codemirror_mode": {
    "name": "ipython",
    "version": 3
   },
   "file_extension": ".py",
   "mimetype": "text/x-python",
   "name": "python",
   "nbconvert_exporter": "python",
   "pygments_lexer": "ipython3",
   "version": "3.11.11"
  }
 },
 "nbformat": 4,
 "nbformat_minor": 4
}
